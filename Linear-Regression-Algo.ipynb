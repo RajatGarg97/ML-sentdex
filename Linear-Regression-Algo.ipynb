{
 "cells": [
  {
   "cell_type": "markdown",
   "metadata": {},
   "source": [
    "# Linear Regression from scratch"
   ]
  },
  {
   "cell_type": "code",
   "execution_count": 2,
   "metadata": {},
   "outputs": [
    {
     "name": "stdout",
     "output_type": "stream",
     "text": [
      "0.428571428571\n"
     ]
    }
   ],
   "source": [
    "from statistics import mean\n",
    "import numpy as np\n",
    "import matplotlib.pyplot as plt\n",
    "from matplotlib import style\n",
    "\n",
    "style.use('fivethirtyeight')\n",
    "\n",
    "xs = np.array([1, 2, 3, 4, 5, 6], dtype = np.float64)\n",
    "ys = np.array([5, 4, 6, 5, 6, 7], dtype = np.float64)\n",
    "\n",
    "def best_fit_slope(xs, ys):\n",
    "    m = ( ((mean(xs)*mean(ys)) - mean(xs*ys)) /   #Formula for slope in Linear Regression\n",
    "         ((mean(xs)*mean(xs)) - mean(xs*xs)) )\n",
    "    return m\n",
    "\n",
    "m = best_fit_slope(xs, ys)\n",
    "\n",
    "print(m)"
   ]
  },
  {
   "cell_type": "code",
   "execution_count": 3,
   "metadata": {},
   "outputs": [
    {
     "name": "stdout",
     "output_type": "stream",
     "text": [
      "0.428571428571 4.0\n"
     ]
    }
   ],
   "source": [
    "def best_fit_intercept(xs, ys):\n",
    "    b = mean(ys) - best_fit_slope(xs, ys)*mean(xs) #Formula for y intercept in Linear Regression\n",
    "    return b\n",
    "\n",
    "b = best_fit_intercept(xs, ys)\n",
    "print(m, b)"
   ]
  },
  {
   "cell_type": "code",
   "execution_count": 5,
   "metadata": {},
   "outputs": [
    {
     "data": {
      "image/png": "[encoded data removed]",
      "text/plain": [
       "<matplotlib.figure.Figure at 0x231b9188c88>"
      ]
     },
     "metadata": {},
     "output_type": "display_data"
    }
   ],
   "source": [
    "regression_line = [((m*x) + b) for x in xs]\n",
    "predict_x = 8\n",
    "predict_y = (m*predict_x) + b                    #PREDICTION\n",
    "plt.scatter(xs, ys)\n",
    "plt.scatter(predict_x, predict_y, color = 'g')\n",
    "plt.plot(xs, regression_line)\n",
    "plt.show()"
   ]
  },
  {
   "cell_type": "code",
   "execution_count": null,
   "metadata": {
    "collapsed": true
   },
   "outputs": [],
   "source": []
  }
 ],
 "metadata": {
  "kernelspec": {
   "display_name": "Python 3",
   "language": "python",
   "name": "python3"
  },
  "language_info": {
   "codemirror_mode": {
    "name": "ipython",
    "version": 3
   },
   "file_extension": ".py",
   "mimetype": "text/x-python",
   "name": "python",
   "nbconvert_exporter": "python",
   "pygments_lexer": "ipython3",
   "version": "3.6.3"
  }
 },
 "nbformat": 4,
 "nbformat_minor": 2
}
